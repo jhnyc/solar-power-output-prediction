{
 "cells": [
  {
   "cell_type": "code",
   "execution_count": 1,
   "metadata": {},
   "outputs": [],
   "source": [
    "%load_ext autoreload\n",
    "%autoreload 2"
   ]
  },
  {
   "cell_type": "code",
   "execution_count": 2,
   "metadata": {},
   "outputs": [
    {
     "data": {
      "text/html": [
       "<pre style=\"white-space:pre;overflow-x:auto;line-height:normal;font-family:Menlo,'DejaVu Sans Mono',consolas,'Courier New',monospace\"><span style=\"color: #808000; text-decoration-color: #808000; font-weight: bold\">/opt/anaconda3/envs/DistDataSys/lib/python3.10/site-packages/airflow/models/base.py:</span><span style=\"color: #808000; text-decoration-color: #808000; font-weight: bold\">49</span><span style=\"color: #808000; text-decoration-color: #808000; font-weight: bold\"> MovedIn20Warning</span><span style=\"color: #808000; text-decoration-color: #808000\">: Deprecated API features detected! These </span><span style=\"color: #808000; text-decoration-color: #808000; font-weight: bold\">feature(</span><span style=\"color: #808000; text-decoration-color: #808000\">s</span><span style=\"color: #808000; text-decoration-color: #808000; font-weight: bold\">)</span><span style=\"color: #808000; text-decoration-color: #808000\"> are not compatible with SQLAlchemy </span><span style=\"color: #808000; text-decoration-color: #808000; font-weight: bold\">2.0</span><span style=\"color: #808000; text-decoration-color: #808000\">. To prevent incompatible upgrades prior to updating applications, ensure requirements files are pinned to </span><span style=\"color: #808000; text-decoration-color: #808000\">\"sqlalchemy&lt;2.0\"</span><span style=\"color: #808000; text-decoration-color: #808000\">. Set environment variable </span><span style=\"color: #808000; text-decoration-color: #808000\">SQLALCHEMY_WARN_20</span><span style=\"color: #808000; text-decoration-color: #808000\">=</span><span style=\"color: #808000; text-decoration-color: #808000; font-weight: bold\">1</span><span style=\"color: #808000; text-decoration-color: #808000\"> to show all deprecation warnings.  Set environment variable </span><span style=\"color: #808000; text-decoration-color: #808000\">SQLALCHEMY_SILENCE_UBER_WARNING</span><span style=\"color: #808000; text-decoration-color: #808000\">=</span><span style=\"color: #808000; text-decoration-color: #808000; font-weight: bold\">1</span><span style=\"color: #808000; text-decoration-color: #808000\"> to silence this message. </span><span style=\"color: #808000; text-decoration-color: #808000; font-weight: bold\">(</span><span style=\"color: #808000; text-decoration-color: #808000\">Background on SQLAlchemy </span><span style=\"color: #808000; text-decoration-color: #808000; font-weight: bold\">2.0</span><span style=\"color: #808000; text-decoration-color: #808000\"> at: </span><span style=\"color: #808000; text-decoration-color: #808000; text-decoration: underline\">https://sqlalche.me/e/b8d9)</span>\n",
       "</pre>\n"
      ],
      "text/plain": [
       "\u001b[1;33m/opt/anaconda3/envs/DistDataSys/lib/python3.10/site-packages/airflow/models/\u001b[0m\u001b[1;33mbase.py\u001b[0m\u001b[1;33m:\u001b[0m\u001b[1;33m49\u001b[0m\u001b[1;33m MovedIn20Warning\u001b[0m\u001b[33m: Deprecated API features detected! These \u001b[0m\u001b[1;33mfeature\u001b[0m\u001b[1;33m(\u001b[0m\u001b[33ms\u001b[0m\u001b[1;33m)\u001b[0m\u001b[33m are not compatible with SQLAlchemy \u001b[0m\u001b[1;33m2.0\u001b[0m\u001b[33m. To prevent incompatible upgrades prior to updating applications, ensure requirements files are pinned to \u001b[0m\u001b[33m\"sqlalchemy<2.0\"\u001b[0m\u001b[33m. Set environment variable \u001b[0m\u001b[33mSQLALCHEMY_WARN_20\u001b[0m\u001b[33m=\u001b[0m\u001b[1;33m1\u001b[0m\u001b[33m to show all deprecation warnings.  Set environment variable \u001b[0m\u001b[33mSQLALCHEMY_SILENCE_UBER_WARNING\u001b[0m\u001b[33m=\u001b[0m\u001b[1;33m1\u001b[0m\u001b[33m to silence this message. \u001b[0m\u001b[1;33m(\u001b[0m\u001b[33mBackground on SQLAlchemy \u001b[0m\u001b[1;33m2.0\u001b[0m\u001b[33m at: \u001b[0m\u001b[4;33mhttps://sqlalche.me/e/b8d9\u001b[0m\u001b[4;33m)\u001b[0m\n"
      ]
     },
     "metadata": {},
     "output_type": "display_data"
    }
   ],
   "source": [
    "from airflow_dag import process_data_with_spark_store_in_mongo"
   ]
  },
  {
   "cell_type": "code",
   "execution_count": 3,
   "metadata": {},
   "outputs": [
    {
     "name": "stdout",
     "output_type": "stream",
     "text": [
      "23/02/27 15:06:34 WARN NativeCodeLoader: Unable to load native-hadoop library for your platform... using builtin-java classes where applicable\n"
     ]
    },
    {
     "name": "stderr",
     "output_type": "stream",
     "text": [
      "Setting default log level to \"WARN\".\n",
      "To adjust logging level use sc.setLogLevel(newLevel). For SparkR, use setLogLevel(newLevel).\n"
     ]
    },
    {
     "name": "stdout",
     "output_type": "stream",
     "text": [
      "23/02/27 15:06:36 WARN Utils: Service 'SparkUI' could not bind on port 4040. Attempting port 4041.\n",
      "[\u001b[34m2023-02-27 15:06:37,294\u001b[0m] {\u001b[34mairflow_dag.py:\u001b[0m93} INFO\u001b[0m - Processing: gcp_filename = 'data/vc_34.182_-118.247_2022_02.csv'\u001b[0m\n",
      "23/02/27 15:06:44 WARN package: Truncated the string representation of a plan since it was too large. This behavior can be adjusted by setting 'spark.sql.debug.maxToStringFields'.\n"
     ]
    },
    {
     "name": "stderr",
     "output_type": "stream",
     "text": [
      "                                                                                \r"
     ]
    },
    {
     "name": "stdout",
     "output_type": "stream",
     "text": [
      "[\u001b[34m2023-02-27 15:06:48,077\u001b[0m] {\u001b[34mmongo_db.py:\u001b[0m44} WARNING\u001b[0m - INSERT KEY ERROR: 34.182_-118.247_2022-02-01_00:00:00\u001b[0m\n",
      "[\u001b[34m2023-02-27 15:06:48,444\u001b[0m] {\u001b[34mairflow_dag.py:\u001b[0m93} INFO\u001b[0m - Processing: gcp_filename = 'data/vc_34.182_-118.247_2022_03.csv'\u001b[0m\n",
      "[\u001b[34m2023-02-27 15:06:51,358\u001b[0m] {\u001b[34mmongo_db.py:\u001b[0m44} WARNING\u001b[0m - INSERT KEY ERROR: 34.182_-118.247_2022-03-01_00:00:00\u001b[0m\n",
      "[\u001b[34m2023-02-27 15:06:51,665\u001b[0m] {\u001b[34mairflow_dag.py:\u001b[0m93} INFO\u001b[0m - Processing: gcp_filename = 'data/vc_34.182_-118.247_2022_04.csv'\u001b[0m\n",
      "[\u001b[34m2023-02-27 15:06:53,975\u001b[0m] {\u001b[34mmongo_db.py:\u001b[0m44} WARNING\u001b[0m - INSERT KEY ERROR: 34.182_-118.247_2022-04-01_00:00:00\u001b[0m\n",
      "[\u001b[34m2023-02-27 15:06:54,305\u001b[0m] {\u001b[34mairflow_dag.py:\u001b[0m93} INFO\u001b[0m - Processing: gcp_filename = 'data/vc_34.182_-118.247_2022_05.csv'\u001b[0m\n"
     ]
    },
    {
     "name": "stderr",
     "output_type": "stream",
     "text": [
      "                                                                                \r"
     ]
    },
    {
     "name": "stdout",
     "output_type": "stream",
     "text": [
      "[\u001b[34m2023-02-27 15:06:58,002\u001b[0m] {\u001b[34mmongo_db.py:\u001b[0m44} WARNING\u001b[0m - INSERT KEY ERROR: 34.182_-118.247_2022-05-01_00:00:00\u001b[0m\n",
      "[\u001b[34m2023-02-27 15:06:58,322\u001b[0m] {\u001b[34mairflow_dag.py:\u001b[0m93} INFO\u001b[0m - Processing: gcp_filename = 'data/vc_34.182_-118.247_2022_06.csv'\u001b[0m\n",
      "[\u001b[34m2023-02-27 15:07:00,530\u001b[0m] {\u001b[34mmongo_db.py:\u001b[0m44} WARNING\u001b[0m - INSERT KEY ERROR: 34.182_-118.247_2022-06-01_00:00:00\u001b[0m\n",
      "[\u001b[34m2023-02-27 15:07:00,855\u001b[0m] {\u001b[34mairflow_dag.py:\u001b[0m93} INFO\u001b[0m - Processing: gcp_filename = 'data/vc_34.182_-118.247_2022_07.csv'\u001b[0m\n"
     ]
    },
    {
     "name": "stderr",
     "output_type": "stream",
     "text": [
      "                                                                                \r"
     ]
    },
    {
     "name": "stdout",
     "output_type": "stream",
     "text": [
      "[\u001b[34m2023-02-27 15:07:03,296\u001b[0m] {\u001b[34mmongo_db.py:\u001b[0m44} WARNING\u001b[0m - INSERT KEY ERROR: 34.182_-118.247_2022-07-01_00:00:00\u001b[0m\n",
      "[\u001b[34m2023-02-27 15:07:03,602\u001b[0m] {\u001b[34mairflow_dag.py:\u001b[0m93} INFO\u001b[0m - Processing: gcp_filename = 'data/vc_34.182_-118.247_2022_08.csv'\u001b[0m\n",
      "[\u001b[34m2023-02-27 15:07:05,787\u001b[0m] {\u001b[34mmongo_db.py:\u001b[0m44} WARNING\u001b[0m - INSERT KEY ERROR: 34.182_-118.247_2022-08-01_00:00:00\u001b[0m\n",
      "[\u001b[34m2023-02-27 15:07:06,102\u001b[0m] {\u001b[34mairflow_dag.py:\u001b[0m93} INFO\u001b[0m - Processing: gcp_filename = 'data/vc_34.182_-118.247_2022_09.csv'\u001b[0m\n",
      "[\u001b[34m2023-02-27 15:07:08,242\u001b[0m] {\u001b[34mmongo_db.py:\u001b[0m44} WARNING\u001b[0m - INSERT KEY ERROR: 34.182_-118.247_2022-09-01_00:00:00\u001b[0m\n",
      "[\u001b[34m2023-02-27 15:07:08,571\u001b[0m] {\u001b[34mairflow_dag.py:\u001b[0m93} INFO\u001b[0m - Processing: gcp_filename = 'data/vc_34.182_-118.247_2022_10.csv'\u001b[0m\n",
      "[\u001b[34m2023-02-27 15:07:10,342\u001b[0m] {\u001b[34mmongo_db.py:\u001b[0m44} WARNING\u001b[0m - INSERT KEY ERROR: 34.182_-118.247_2022-10-01_00:00:00\u001b[0m\n",
      "[\u001b[34m2023-02-27 15:07:10,654\u001b[0m] {\u001b[34mairflow_dag.py:\u001b[0m93} INFO\u001b[0m - Processing: gcp_filename = 'data/vc_34.182_-118.247_2022_11.csv'\u001b[0m\n",
      "[\u001b[34m2023-02-27 15:07:12,761\u001b[0m] {\u001b[34mmongo_db.py:\u001b[0m44} WARNING\u001b[0m - INSERT KEY ERROR: 34.182_-118.247_2022-11-01_00:00:00\u001b[0m\n",
      "[\u001b[34m2023-02-27 15:07:13,098\u001b[0m] {\u001b[34mairflow_dag.py:\u001b[0m93} INFO\u001b[0m - Processing: gcp_filename = 'data/vc_34.182_-118.247_2022_12.csv'\u001b[0m\n",
      "[\u001b[34m2023-02-27 15:07:15,206\u001b[0m] {\u001b[34mmongo_db.py:\u001b[0m44} WARNING\u001b[0m - INSERT KEY ERROR: 34.182_-118.247_2022-12-01_00:00:00\u001b[0m\n",
      "[\u001b[34m2023-02-27 15:07:15,522\u001b[0m] {\u001b[34mairflow_dag.py:\u001b[0m93} INFO\u001b[0m - Processing: gcp_filename = 'data/vc_33.696_-118.002_2022_01.csv'\u001b[0m\n",
      "[\u001b[34m2023-02-27 15:07:17,479\u001b[0m] {\u001b[34mmongo_db.py:\u001b[0m44} WARNING\u001b[0m - INSERT KEY ERROR: 33.696_-118.002_2022-01-01_00:00:00\u001b[0m\n",
      "[\u001b[34m2023-02-27 15:07:17,797\u001b[0m] {\u001b[34mairflow_dag.py:\u001b[0m93} INFO\u001b[0m - Processing: gcp_filename = 'data/vc_33.696_-118.002_2022_02.csv'\u001b[0m\n",
      "[\u001b[34m2023-02-27 15:07:19,381\u001b[0m] {\u001b[34mmongo_db.py:\u001b[0m44} WARNING\u001b[0m - INSERT KEY ERROR: 33.696_-118.002_2022-02-01_00:00:00\u001b[0m\n",
      "[\u001b[34m2023-02-27 15:07:19,720\u001b[0m] {\u001b[34mairflow_dag.py:\u001b[0m93} INFO\u001b[0m - Processing: gcp_filename = 'data/vc_33.696_-118.002_2022_03.csv'\u001b[0m\n",
      "[\u001b[34m2023-02-27 15:07:21,390\u001b[0m] {\u001b[34mmongo_db.py:\u001b[0m44} WARNING\u001b[0m - INSERT KEY ERROR: 33.696_-118.002_2022-03-01_00:00:00\u001b[0m\n",
      "[\u001b[34m2023-02-27 15:07:21,704\u001b[0m] {\u001b[34mairflow_dag.py:\u001b[0m93} INFO\u001b[0m - Processing: gcp_filename = 'data/vc_33.696_-118.002_2022_04.csv'\u001b[0m\n",
      "[\u001b[34m2023-02-27 15:07:23,376\u001b[0m] {\u001b[34mmongo_db.py:\u001b[0m44} WARNING\u001b[0m - INSERT KEY ERROR: 33.696_-118.002_2022-04-01_00:00:00\u001b[0m\n",
      "[\u001b[34m2023-02-27 15:07:23,692\u001b[0m] {\u001b[34mairflow_dag.py:\u001b[0m93} INFO\u001b[0m - Processing: gcp_filename = 'data/vc_33.696_-118.002_2022_05.csv'\u001b[0m\n",
      "[\u001b[34m2023-02-27 15:07:25,424\u001b[0m] {\u001b[34mmongo_db.py:\u001b[0m44} WARNING\u001b[0m - INSERT KEY ERROR: 33.696_-118.002_2022-05-01_00:00:00\u001b[0m\n",
      "[\u001b[34m2023-02-27 15:07:25,769\u001b[0m] {\u001b[34mairflow_dag.py:\u001b[0m93} INFO\u001b[0m - Processing: gcp_filename = 'data/vc_33.696_-118.002_2022_06.csv'\u001b[0m\n",
      "[\u001b[34m2023-02-27 15:07:27,720\u001b[0m] {\u001b[34mmongo_db.py:\u001b[0m44} WARNING\u001b[0m - INSERT KEY ERROR: 33.696_-118.002_2022-06-01_00:00:00\u001b[0m\n",
      "[\u001b[34m2023-02-27 15:07:28,025\u001b[0m] {\u001b[34mairflow_dag.py:\u001b[0m93} INFO\u001b[0m - Processing: gcp_filename = 'data/vc_33.696_-118.002_2022_07.csv'\u001b[0m\n",
      "[\u001b[34m2023-02-27 15:07:29,733\u001b[0m] {\u001b[34mmongo_db.py:\u001b[0m44} WARNING\u001b[0m - INSERT KEY ERROR: 33.696_-118.002_2022-07-01_00:00:00\u001b[0m\n",
      "[\u001b[34m2023-02-27 15:07:30,041\u001b[0m] {\u001b[34mairflow_dag.py:\u001b[0m93} INFO\u001b[0m - Processing: gcp_filename = 'data/vc_33.696_-118.002_2022_08.csv'\u001b[0m\n",
      "[\u001b[34m2023-02-27 15:07:32,049\u001b[0m] {\u001b[34mmongo_db.py:\u001b[0m44} WARNING\u001b[0m - INSERT KEY ERROR: 33.696_-118.002_2022-08-01_00:00:00\u001b[0m\n",
      "[\u001b[34m2023-02-27 15:07:32,402\u001b[0m] {\u001b[34mairflow_dag.py:\u001b[0m93} INFO\u001b[0m - Processing: gcp_filename = 'data/vc_33.696_-118.002_2022_09.csv'\u001b[0m\n",
      "[\u001b[34m2023-02-27 15:07:35,797\u001b[0m] {\u001b[34mmongo_db.py:\u001b[0m44} WARNING\u001b[0m - INSERT KEY ERROR: 33.696_-118.002_2022-09-01_00:00:00\u001b[0m\n",
      "[\u001b[34m2023-02-27 15:07:36,103\u001b[0m] {\u001b[34mairflow_dag.py:\u001b[0m93} INFO\u001b[0m - Processing: gcp_filename = 'data/vc_33.696_-118.002_2022_10.csv'\u001b[0m\n",
      "[\u001b[34m2023-02-27 15:07:37,671\u001b[0m] {\u001b[34mmongo_db.py:\u001b[0m44} WARNING\u001b[0m - INSERT KEY ERROR: 33.696_-118.002_2022-10-01_00:00:00\u001b[0m\n",
      "[\u001b[34m2023-02-27 15:07:37,992\u001b[0m] {\u001b[34mairflow_dag.py:\u001b[0m93} INFO\u001b[0m - Processing: gcp_filename = 'data/vc_33.696_-118.002_2022_11.csv'\u001b[0m\n",
      "[\u001b[34m2023-02-27 15:07:39,926\u001b[0m] {\u001b[34mmongo_db.py:\u001b[0m44} WARNING\u001b[0m - INSERT KEY ERROR: 33.696_-118.002_2022-11-01_00:00:00\u001b[0m\n",
      "[\u001b[34m2023-02-27 15:07:40,242\u001b[0m] {\u001b[34mairflow_dag.py:\u001b[0m93} INFO\u001b[0m - Processing: gcp_filename = 'data/vc_33.696_-118.002_2022_12.csv'\u001b[0m\n",
      "[\u001b[34m2023-02-27 15:07:41,949\u001b[0m] {\u001b[34mmongo_db.py:\u001b[0m44} WARNING\u001b[0m - INSERT KEY ERROR: 33.696_-118.002_2022-12-01_00:00:00\u001b[0m\n",
      "[\u001b[34m2023-02-27 15:07:42,432\u001b[0m] {\u001b[34mairflow_dag.py:\u001b[0m93} INFO\u001b[0m - Processing: gcp_filename = 'data/vc_36.688_-121.632_2022_01.csv'\u001b[0m\n",
      "[\u001b[34m2023-02-27 15:07:44,322\u001b[0m] {\u001b[34mmongo_db.py:\u001b[0m44} WARNING\u001b[0m - INSERT KEY ERROR: 36.688_-121.632_2022-01-01_00:00:00\u001b[0m\n",
      "[\u001b[34m2023-02-27 15:07:44,629\u001b[0m] {\u001b[34mairflow_dag.py:\u001b[0m93} INFO\u001b[0m - Processing: gcp_filename = 'data/vc_36.688_-121.632_2022_02.csv'\u001b[0m\n",
      "[\u001b[34m2023-02-27 15:07:46,331\u001b[0m] {\u001b[34mmongo_db.py:\u001b[0m44} WARNING\u001b[0m - INSERT KEY ERROR: 36.688_-121.632_2022-02-01_00:00:00\u001b[0m\n",
      "[\u001b[34m2023-02-27 15:07:46,652\u001b[0m] {\u001b[34mairflow_dag.py:\u001b[0m93} INFO\u001b[0m - Processing: gcp_filename = 'data/vc_36.688_-121.632_2022_03.csv'\u001b[0m\n",
      "[\u001b[34m2023-02-27 15:07:48,548\u001b[0m] {\u001b[34mmongo_db.py:\u001b[0m44} WARNING\u001b[0m - INSERT KEY ERROR: 36.688_-121.632_2022-03-01_00:00:00\u001b[0m\n",
      "[\u001b[34m2023-02-27 15:07:48,844\u001b[0m] {\u001b[34mairflow_dag.py:\u001b[0m93} INFO\u001b[0m - Processing: gcp_filename = 'data/vc_36.688_-121.632_2022_04.csv'\u001b[0m\n",
      "[\u001b[34m2023-02-27 15:07:50,557\u001b[0m] {\u001b[34mmongo_db.py:\u001b[0m44} WARNING\u001b[0m - INSERT KEY ERROR: 36.688_-121.632_2022-04-01_00:00:00\u001b[0m\n",
      "[\u001b[34m2023-02-27 15:07:50,849\u001b[0m] {\u001b[34mairflow_dag.py:\u001b[0m93} INFO\u001b[0m - Processing: gcp_filename = 'data/vc_36.688_-121.632_2022_05.csv'\u001b[0m\n",
      "[\u001b[34m2023-02-27 15:07:52,719\u001b[0m] {\u001b[34mmongo_db.py:\u001b[0m44} WARNING\u001b[0m - INSERT KEY ERROR: 36.688_-121.632_2022-05-01_00:00:00\u001b[0m\n",
      "[\u001b[34m2023-02-27 15:07:53,017\u001b[0m] {\u001b[34mairflow_dag.py:\u001b[0m93} INFO\u001b[0m - Processing: gcp_filename = 'data/vc_36.688_-121.632_2022_06.csv'\u001b[0m\n"
     ]
    }
   ],
   "source": [
    "process_data_with_spark_store_in_mongo()"
   ]
  },
  {
   "cell_type": "code",
   "execution_count": null,
   "metadata": {},
   "outputs": [],
   "source": []
  }
 ],
 "metadata": {
  "kernelspec": {
   "display_name": "DistDataSys",
   "language": "python",
   "name": "python3"
  },
  "language_info": {
   "codemirror_mode": {
    "name": "ipython",
    "version": 3
   },
   "file_extension": ".py",
   "mimetype": "text/x-python",
   "name": "python",
   "nbconvert_exporter": "python",
   "pygments_lexer": "ipython3",
   "version": "3.10.0"
  },
  "orig_nbformat": 4,
  "vscode": {
   "interpreter": {
    "hash": "9738d544e3bca1bb8999731356cf7472fd76247a39eae401bed6af6e817fdd12"
   }
  }
 },
 "nbformat": 4,
 "nbformat_minor": 2
}
