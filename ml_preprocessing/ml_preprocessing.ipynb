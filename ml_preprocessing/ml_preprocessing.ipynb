{
 "cells": [
  {
   "cell_type": "code",
   "execution_count": 1,
   "metadata": {},
   "outputs": [],
   "source": [
    "%load_ext autoreload\n",
    "%autoreload 2"
   ]
  },
  {
   "cell_type": "code",
   "execution_count": 37,
   "metadata": {},
   "outputs": [],
   "source": [
    "import sys\n",
    "sys.path.append('/Users/mtwheeler/USF/spring_1/data_systems/final_project/repo/')\n",
    "sys.path.append('/Users/mtwheeler/USF/spring_1/data_systems/final_project/repo/etl_pipeline')\n",
    "\n",
    "from etl_pipeline.mongo_db import MongoDB\n",
    "from datetime import datetime\n",
    "\n",
    "from sklearn.model_selection import train_test_split\n",
    "from sklearn.ensemble import RandomForestRegressor\n",
    "from sklearn.metrics import mean_absolute_error\n",
    "\n",
    "import pandas as pd\n",
    "import numpy as np"
   ]
  },
  {
   "cell_type": "code",
   "execution_count": 3,
   "metadata": {},
   "outputs": [],
   "source": [
    "mongo = MongoDB()"
   ]
  },
  {
   "cell_type": "code",
   "execution_count": 4,
   "metadata": {},
   "outputs": [],
   "source": [
    "locations_df = pd.read_csv('../etl_pipeline/locations.csv')\n",
    "locations = locations_df[['lat', 'lon']].values"
   ]
  },
  {
   "cell_type": "code",
   "execution_count": 5,
   "metadata": {},
   "outputs": [],
   "source": [
    "dates = pd.date_range(datetime(2022, 1, 1, 0, 0, 0), datetime(2022, 12, 31, 23, 0, 0), freq='H')\n",
    "dates = [date for date in dates if date.hour > 4 and date.hour < 20]\n",
    "dates = np.array([date.to_pydatetime().strftime('%Y-%m-%d_%H:%M:%S') for date in dates])"
   ]
  },
  {
   "cell_type": "code",
   "execution_count": 6,
   "metadata": {},
   "outputs": [],
   "source": [
    "np.random.seed(123)\n",
    "\n",
    "NUM_LOC = 50\n",
    "NUM_DATES = 3000\n",
    "\n",
    "\n",
    "indices = []\n",
    "\n",
    "loc_idx = np.random.choice(range(len(locations)), NUM_LOC, replace=False)\n",
    "for lat, lon in locations[loc_idx]:\n",
    "    date_idx = np.random.choice(range(len(dates)), NUM_DATES, replace=False)\n",
    "    for date in dates[date_idx]:\n",
    "        indices.append(f'{lat}_{lon}_{date}')\n"
   ]
  },
  {
   "cell_type": "code",
   "execution_count": 7,
   "metadata": {},
   "outputs": [],
   "source": [
    "data = mongo.collection.find({\"_id\": {\"$in\": indices}}, {})\n",
    "data = pd.DataFrame(list(data))\n",
    "data.to_csv('sample_dataset.csv')"
   ]
  },
  {
   "cell_type": "code",
   "execution_count": 8,
   "metadata": {},
   "outputs": [],
   "source": [
    "def create_time_embedding(time, embedding_num):\n",
    "    hour = datetime.strptime(time, '%H:%M:%S').hour\n",
    "    if embedding_num == 0:\n",
    "        return np.sin(2 * np.pi * hour / 24)\n",
    "    elif embedding_num == 1:\n",
    "        return np.cos(2 * np.pi * hour / 24)\n",
    "    \n",
    "def create_date_embedding(date, embedding_num):\n",
    "    day = (datetime.strptime(date, '%Y-%m-%d') - datetime(2022, 1, 1)).days\n",
    "    if embedding_num == 0:\n",
    "        return np.sin(2 * np.pi * day / 365)\n",
    "    elif embedding_num == 1:\n",
    "        return np.cos(2 * np.pi * day / 365)\n",
    "    \n",
    "def compute_sunset_sunrise_time(time, sunrise, sunset):\n",
    "    time = datetime.strptime(time, '%H:%M:%S')\n",
    "    sunrise = datetime.strptime(sunrise, '%H:%M:%S')\n",
    "    sunset = datetime.strptime(sunset, '%H:%M:%S')\n",
    "    time_min = time.minute + time.hour * 60\n",
    "    sunrise_min = sunrise.minute + sunrise.hour * 60\n",
    "    sunset_min = sunset.minute + sunset.hour * 60\n",
    "    if time_min < sunrise_min or sunset_min < time_min:\n",
    "        return 0\n",
    "    else:\n",
    "        return 2 * min(time_min - sunrise_min, sunset_min - time_min) / (sunset_min - sunrise_min)"
   ]
  },
  {
   "cell_type": "code",
   "execution_count": 9,
   "metadata": {},
   "outputs": [
    {
     "data": {
      "text/html": [
       "<div>\n",
       "<style scoped>\n",
       "    .dataframe tbody tr th:only-of-type {\n",
       "        vertical-align: middle;\n",
       "    }\n",
       "\n",
       "    .dataframe tbody tr th {\n",
       "        vertical-align: top;\n",
       "    }\n",
       "\n",
       "    .dataframe thead th {\n",
       "        text-align: right;\n",
       "    }\n",
       "</style>\n",
       "<table border=\"1\" class=\"dataframe\">\n",
       "  <thead>\n",
       "    <tr style=\"text-align: right;\">\n",
       "      <th></th>\n",
       "      <th>_id</th>\n",
       "      <th>datetimeEpoch</th>\n",
       "      <th>temp</th>\n",
       "      <th>feelslike</th>\n",
       "      <th>humidity</th>\n",
       "      <th>dew</th>\n",
       "      <th>precip</th>\n",
       "      <th>precipprob</th>\n",
       "      <th>snow</th>\n",
       "      <th>snowdepth</th>\n",
       "      <th>...</th>\n",
       "      <th>day_agg_sunset</th>\n",
       "      <th>day_agg_moonphase</th>\n",
       "      <th>day_agg_conditions</th>\n",
       "      <th>day_agg_description</th>\n",
       "      <th>day_agg_source</th>\n",
       "      <th>time_emb_0</th>\n",
       "      <th>time_emb_1</th>\n",
       "      <th>date_emb_0</th>\n",
       "      <th>date_emb_1</th>\n",
       "      <th>time_sunset_sunrise</th>\n",
       "    </tr>\n",
       "  </thead>\n",
       "  <tbody>\n",
       "    <tr>\n",
       "      <th>0</th>\n",
       "      <td>32.802_-116.96_2022-01-01_05:00:00</td>\n",
       "      <td>1641042000</td>\n",
       "      <td>9.9</td>\n",
       "      <td>8.8</td>\n",
       "      <td>82.30</td>\n",
       "      <td>7.1</td>\n",
       "      <td>0.0</td>\n",
       "      <td>0.0</td>\n",
       "      <td>0.0</td>\n",
       "      <td>0.0</td>\n",
       "      <td>...</td>\n",
       "      <td>16:52:45</td>\n",
       "      <td>0.97</td>\n",
       "      <td>Partially cloudy</td>\n",
       "      <td>Clearing in the afternoon.</td>\n",
       "      <td>obs</td>\n",
       "      <td>9.659258e-01</td>\n",
       "      <td>2.588190e-01</td>\n",
       "      <td>0.000000</td>\n",
       "      <td>1.000000</td>\n",
       "      <td>0.000000</td>\n",
       "    </tr>\n",
       "    <tr>\n",
       "      <th>1</th>\n",
       "      <td>32.802_-116.96_2022-01-01_08:00:00</td>\n",
       "      <td>1641052800</td>\n",
       "      <td>11.9</td>\n",
       "      <td>11.9</td>\n",
       "      <td>76.47</td>\n",
       "      <td>7.9</td>\n",
       "      <td>0.0</td>\n",
       "      <td>0.0</td>\n",
       "      <td>0.0</td>\n",
       "      <td>0.0</td>\n",
       "      <td>...</td>\n",
       "      <td>16:52:45</td>\n",
       "      <td>0.97</td>\n",
       "      <td>Partially cloudy</td>\n",
       "      <td>Clearing in the afternoon.</td>\n",
       "      <td>obs</td>\n",
       "      <td>8.660254e-01</td>\n",
       "      <td>-5.000000e-01</td>\n",
       "      <td>0.000000</td>\n",
       "      <td>1.000000</td>\n",
       "      <td>0.232558</td>\n",
       "    </tr>\n",
       "    <tr>\n",
       "      <th>2</th>\n",
       "      <td>32.802_-116.96_2022-01-01_09:00:00</td>\n",
       "      <td>1641056400</td>\n",
       "      <td>13.7</td>\n",
       "      <td>13.7</td>\n",
       "      <td>64.94</td>\n",
       "      <td>7.2</td>\n",
       "      <td>0.0</td>\n",
       "      <td>0.0</td>\n",
       "      <td>0.0</td>\n",
       "      <td>0.0</td>\n",
       "      <td>...</td>\n",
       "      <td>16:52:45</td>\n",
       "      <td>0.97</td>\n",
       "      <td>Partially cloudy</td>\n",
       "      <td>Clearing in the afternoon.</td>\n",
       "      <td>obs</td>\n",
       "      <td>7.071068e-01</td>\n",
       "      <td>-7.071068e-01</td>\n",
       "      <td>0.000000</td>\n",
       "      <td>1.000000</td>\n",
       "      <td>0.431894</td>\n",
       "    </tr>\n",
       "    <tr>\n",
       "      <th>3</th>\n",
       "      <td>32.802_-116.96_2022-01-01_13:00:00</td>\n",
       "      <td>1641070800</td>\n",
       "      <td>17.0</td>\n",
       "      <td>17.0</td>\n",
       "      <td>46.03</td>\n",
       "      <td>5.3</td>\n",
       "      <td>0.0</td>\n",
       "      <td>0.0</td>\n",
       "      <td>0.0</td>\n",
       "      <td>0.0</td>\n",
       "      <td>...</td>\n",
       "      <td>16:52:45</td>\n",
       "      <td>0.97</td>\n",
       "      <td>Partially cloudy</td>\n",
       "      <td>Clearing in the afternoon.</td>\n",
       "      <td>obs</td>\n",
       "      <td>-2.588190e-01</td>\n",
       "      <td>-9.659258e-01</td>\n",
       "      <td>0.000000</td>\n",
       "      <td>1.000000</td>\n",
       "      <td>0.770764</td>\n",
       "    </tr>\n",
       "    <tr>\n",
       "      <th>4</th>\n",
       "      <td>32.802_-116.96_2022-01-01_14:00:00</td>\n",
       "      <td>1641074400</td>\n",
       "      <td>16.8</td>\n",
       "      <td>16.8</td>\n",
       "      <td>54.93</td>\n",
       "      <td>7.7</td>\n",
       "      <td>0.0</td>\n",
       "      <td>0.0</td>\n",
       "      <td>0.0</td>\n",
       "      <td>0.0</td>\n",
       "      <td>...</td>\n",
       "      <td>16:52:45</td>\n",
       "      <td>0.97</td>\n",
       "      <td>Partially cloudy</td>\n",
       "      <td>Clearing in the afternoon.</td>\n",
       "      <td>obs</td>\n",
       "      <td>-5.000000e-01</td>\n",
       "      <td>-8.660254e-01</td>\n",
       "      <td>0.000000</td>\n",
       "      <td>1.000000</td>\n",
       "      <td>0.571429</td>\n",
       "    </tr>\n",
       "    <tr>\n",
       "      <th>...</th>\n",
       "      <td>...</td>\n",
       "      <td>...</td>\n",
       "      <td>...</td>\n",
       "      <td>...</td>\n",
       "      <td>...</td>\n",
       "      <td>...</td>\n",
       "      <td>...</td>\n",
       "      <td>...</td>\n",
       "      <td>...</td>\n",
       "      <td>...</td>\n",
       "      <td>...</td>\n",
       "      <td>...</td>\n",
       "      <td>...</td>\n",
       "      <td>...</td>\n",
       "      <td>...</td>\n",
       "      <td>...</td>\n",
       "      <td>...</td>\n",
       "      <td>...</td>\n",
       "      <td>...</td>\n",
       "      <td>...</td>\n",
       "      <td>...</td>\n",
       "    </tr>\n",
       "    <tr>\n",
       "      <th>149995</th>\n",
       "      <td>40.718_-122.326_2022-12-31_12:00:00</td>\n",
       "      <td>1672516800</td>\n",
       "      <td>12.3</td>\n",
       "      <td>12.3</td>\n",
       "      <td>88.25</td>\n",
       "      <td>10.4</td>\n",
       "      <td>0.0</td>\n",
       "      <td>0.0</td>\n",
       "      <td>0.0</td>\n",
       "      <td>0.0</td>\n",
       "      <td>...</td>\n",
       "      <td>16:51:43</td>\n",
       "      <td>0.29</td>\n",
       "      <td>Rain, Partially cloudy</td>\n",
       "      <td>Partly cloudy throughout the day with early mo...</td>\n",
       "      <td>obs</td>\n",
       "      <td>1.224647e-16</td>\n",
       "      <td>-1.000000e+00</td>\n",
       "      <td>-0.017213</td>\n",
       "      <td>0.999852</td>\n",
       "      <td>0.956989</td>\n",
       "    </tr>\n",
       "    <tr>\n",
       "      <th>149996</th>\n",
       "      <td>40.718_-122.326_2022-12-31_13:00:00</td>\n",
       "      <td>1672520400</td>\n",
       "      <td>11.7</td>\n",
       "      <td>11.7</td>\n",
       "      <td>89.67</td>\n",
       "      <td>10.1</td>\n",
       "      <td>0.0</td>\n",
       "      <td>0.0</td>\n",
       "      <td>0.0</td>\n",
       "      <td>0.0</td>\n",
       "      <td>...</td>\n",
       "      <td>16:51:43</td>\n",
       "      <td>0.29</td>\n",
       "      <td>Rain, Partially cloudy</td>\n",
       "      <td>Partly cloudy throughout the day with early mo...</td>\n",
       "      <td>obs</td>\n",
       "      <td>-2.588190e-01</td>\n",
       "      <td>-9.659258e-01</td>\n",
       "      <td>-0.017213</td>\n",
       "      <td>0.999852</td>\n",
       "      <td>0.827957</td>\n",
       "    </tr>\n",
       "    <tr>\n",
       "      <th>149997</th>\n",
       "      <td>40.718_-122.326_2022-12-31_17:00:00</td>\n",
       "      <td>1672534800</td>\n",
       "      <td>10.5</td>\n",
       "      <td>10.5</td>\n",
       "      <td>91.05</td>\n",
       "      <td>9.1</td>\n",
       "      <td>0.0</td>\n",
       "      <td>0.0</td>\n",
       "      <td>0.0</td>\n",
       "      <td>0.0</td>\n",
       "      <td>...</td>\n",
       "      <td>16:51:43</td>\n",
       "      <td>0.29</td>\n",
       "      <td>Rain, Partially cloudy</td>\n",
       "      <td>Partly cloudy throughout the day with early mo...</td>\n",
       "      <td>obs</td>\n",
       "      <td>-9.659258e-01</td>\n",
       "      <td>-2.588190e-01</td>\n",
       "      <td>-0.017213</td>\n",
       "      <td>0.999852</td>\n",
       "      <td>0.000000</td>\n",
       "    </tr>\n",
       "    <tr>\n",
       "      <th>149998</th>\n",
       "      <td>40.718_-122.326_2022-12-31_18:00:00</td>\n",
       "      <td>1672538400</td>\n",
       "      <td>10.5</td>\n",
       "      <td>10.5</td>\n",
       "      <td>85.16</td>\n",
       "      <td>8.1</td>\n",
       "      <td>0.0</td>\n",
       "      <td>0.0</td>\n",
       "      <td>0.0</td>\n",
       "      <td>0.0</td>\n",
       "      <td>...</td>\n",
       "      <td>16:51:43</td>\n",
       "      <td>0.29</td>\n",
       "      <td>Rain, Partially cloudy</td>\n",
       "      <td>Partly cloudy throughout the day with early mo...</td>\n",
       "      <td>obs</td>\n",
       "      <td>-1.000000e+00</td>\n",
       "      <td>-1.836970e-16</td>\n",
       "      <td>-0.017213</td>\n",
       "      <td>0.999852</td>\n",
       "      <td>0.000000</td>\n",
       "    </tr>\n",
       "    <tr>\n",
       "      <th>149999</th>\n",
       "      <td>40.718_-122.326_2022-12-31_19:00:00</td>\n",
       "      <td>1672542000</td>\n",
       "      <td>10.8</td>\n",
       "      <td>10.8</td>\n",
       "      <td>73.55</td>\n",
       "      <td>6.2</td>\n",
       "      <td>0.0</td>\n",
       "      <td>0.0</td>\n",
       "      <td>0.0</td>\n",
       "      <td>0.0</td>\n",
       "      <td>...</td>\n",
       "      <td>16:51:43</td>\n",
       "      <td>0.29</td>\n",
       "      <td>Rain, Partially cloudy</td>\n",
       "      <td>Partly cloudy throughout the day with early mo...</td>\n",
       "      <td>obs</td>\n",
       "      <td>-9.659258e-01</td>\n",
       "      <td>2.588190e-01</td>\n",
       "      <td>-0.017213</td>\n",
       "      <td>0.999852</td>\n",
       "      <td>0.000000</td>\n",
       "    </tr>\n",
       "  </tbody>\n",
       "</table>\n",
       "<p>150000 rows × 64 columns</p>\n",
       "</div>"
      ],
      "text/plain": [
       "                                        _id  datetimeEpoch  temp  feelslike  \\\n",
       "0        32.802_-116.96_2022-01-01_05:00:00     1641042000   9.9        8.8   \n",
       "1        32.802_-116.96_2022-01-01_08:00:00     1641052800  11.9       11.9   \n",
       "2        32.802_-116.96_2022-01-01_09:00:00     1641056400  13.7       13.7   \n",
       "3        32.802_-116.96_2022-01-01_13:00:00     1641070800  17.0       17.0   \n",
       "4        32.802_-116.96_2022-01-01_14:00:00     1641074400  16.8       16.8   \n",
       "...                                     ...            ...   ...        ...   \n",
       "149995  40.718_-122.326_2022-12-31_12:00:00     1672516800  12.3       12.3   \n",
       "149996  40.718_-122.326_2022-12-31_13:00:00     1672520400  11.7       11.7   \n",
       "149997  40.718_-122.326_2022-12-31_17:00:00     1672534800  10.5       10.5   \n",
       "149998  40.718_-122.326_2022-12-31_18:00:00     1672538400  10.5       10.5   \n",
       "149999  40.718_-122.326_2022-12-31_19:00:00     1672542000  10.8       10.8   \n",
       "\n",
       "        humidity   dew  precip  precipprob  snow  snowdepth  ...  \\\n",
       "0          82.30   7.1     0.0         0.0   0.0        0.0  ...   \n",
       "1          76.47   7.9     0.0         0.0   0.0        0.0  ...   \n",
       "2          64.94   7.2     0.0         0.0   0.0        0.0  ...   \n",
       "3          46.03   5.3     0.0         0.0   0.0        0.0  ...   \n",
       "4          54.93   7.7     0.0         0.0   0.0        0.0  ...   \n",
       "...          ...   ...     ...         ...   ...        ...  ...   \n",
       "149995     88.25  10.4     0.0         0.0   0.0        0.0  ...   \n",
       "149996     89.67  10.1     0.0         0.0   0.0        0.0  ...   \n",
       "149997     91.05   9.1     0.0         0.0   0.0        0.0  ...   \n",
       "149998     85.16   8.1     0.0         0.0   0.0        0.0  ...   \n",
       "149999     73.55   6.2     0.0         0.0   0.0        0.0  ...   \n",
       "\n",
       "       day_agg_sunset  day_agg_moonphase      day_agg_conditions  \\\n",
       "0            16:52:45               0.97        Partially cloudy   \n",
       "1            16:52:45               0.97        Partially cloudy   \n",
       "2            16:52:45               0.97        Partially cloudy   \n",
       "3            16:52:45               0.97        Partially cloudy   \n",
       "4            16:52:45               0.97        Partially cloudy   \n",
       "...               ...                ...                     ...   \n",
       "149995       16:51:43               0.29  Rain, Partially cloudy   \n",
       "149996       16:51:43               0.29  Rain, Partially cloudy   \n",
       "149997       16:51:43               0.29  Rain, Partially cloudy   \n",
       "149998       16:51:43               0.29  Rain, Partially cloudy   \n",
       "149999       16:51:43               0.29  Rain, Partially cloudy   \n",
       "\n",
       "                                      day_agg_description  day_agg_source  \\\n",
       "0                              Clearing in the afternoon.             obs   \n",
       "1                              Clearing in the afternoon.             obs   \n",
       "2                              Clearing in the afternoon.             obs   \n",
       "3                              Clearing in the afternoon.             obs   \n",
       "4                              Clearing in the afternoon.             obs   \n",
       "...                                                   ...             ...   \n",
       "149995  Partly cloudy throughout the day with early mo...             obs   \n",
       "149996  Partly cloudy throughout the day with early mo...             obs   \n",
       "149997  Partly cloudy throughout the day with early mo...             obs   \n",
       "149998  Partly cloudy throughout the day with early mo...             obs   \n",
       "149999  Partly cloudy throughout the day with early mo...             obs   \n",
       "\n",
       "          time_emb_0    time_emb_1  date_emb_0  date_emb_1  \\\n",
       "0       9.659258e-01  2.588190e-01    0.000000    1.000000   \n",
       "1       8.660254e-01 -5.000000e-01    0.000000    1.000000   \n",
       "2       7.071068e-01 -7.071068e-01    0.000000    1.000000   \n",
       "3      -2.588190e-01 -9.659258e-01    0.000000    1.000000   \n",
       "4      -5.000000e-01 -8.660254e-01    0.000000    1.000000   \n",
       "...              ...           ...         ...         ...   \n",
       "149995  1.224647e-16 -1.000000e+00   -0.017213    0.999852   \n",
       "149996 -2.588190e-01 -9.659258e-01   -0.017213    0.999852   \n",
       "149997 -9.659258e-01 -2.588190e-01   -0.017213    0.999852   \n",
       "149998 -1.000000e+00 -1.836970e-16   -0.017213    0.999852   \n",
       "149999 -9.659258e-01  2.588190e-01   -0.017213    0.999852   \n",
       "\n",
       "        time_sunset_sunrise  \n",
       "0                  0.000000  \n",
       "1                  0.232558  \n",
       "2                  0.431894  \n",
       "3                  0.770764  \n",
       "4                  0.571429  \n",
       "...                     ...  \n",
       "149995             0.956989  \n",
       "149996             0.827957  \n",
       "149997             0.000000  \n",
       "149998             0.000000  \n",
       "149999             0.000000  \n",
       "\n",
       "[150000 rows x 64 columns]"
      ]
     },
     "execution_count": 9,
     "metadata": {},
     "output_type": "execute_result"
    }
   ],
   "source": [
    "data['time_emb_0'] = data['time'].apply(lambda x: create_time_embedding(x, 0))\n",
    "data['time_emb_1'] = data['time'].apply(lambda x: create_time_embedding(x, 1))\n",
    "\n",
    "data['date_emb_0'] = data['date'].apply(lambda x: create_date_embedding(x, 0))\n",
    "data['date_emb_1'] = data['date'].apply(lambda x: create_date_embedding(x, 1))\n",
    "\n",
    "data['time_sunset_sunrise'] = data.apply(lambda x: compute_sunset_sunrise_time(x['time'], x['day_agg_sunrise'], x['day_agg_sunset']), axis=1)\n",
    "\n",
    "data"
   ]
  },
  {
   "cell_type": "code",
   "execution_count": 10,
   "metadata": {},
   "outputs": [],
   "source": [
    "pca_values = pd.read_csv('PCA_lat_lon.csv')"
   ]
  },
  {
   "cell_type": "code",
   "execution_count": 11,
   "metadata": {},
   "outputs": [],
   "source": [
    "final = data.merge(pca_values.drop(columns=['city_name']), on=['lat','lon'])"
   ]
  },
  {
   "cell_type": "code",
   "execution_count": 19,
   "metadata": {},
   "outputs": [],
   "source": [
    "feature_columns = [\n",
    "    \"temp\", \"feelslike\", \"humidity\", \"dew\", \"precip\", \"precipprob\", \"snow\", \n",
    "    \"snowdepth\", \"windgust\", \"windspeed\", \"pressure\", \"visibility\", \n",
    "    \"cloud_cover_perc\", \"severerisk\", \"lat\", \"lon\", \"time_emb_0\", \n",
    "    \"time_emb_1\", \"date_emb_0\", \"date_emb_1\", \"time_sunset_sunrise\", \"PC1\", \"PC2\"\n",
    "]\n",
    "\n",
    "target_column = 'solar_radiation'"
   ]
  },
  {
   "cell_type": "code",
   "execution_count": 20,
   "metadata": {},
   "outputs": [],
   "source": [
    "X = final[feature_columns].values\n",
    "y = final[target_column].values"
   ]
  },
  {
   "cell_type": "code",
   "execution_count": 22,
   "metadata": {},
   "outputs": [],
   "source": [
    "X_train, X_test, y_train, y_test = train_test_split(X, y, test_size=0.2)"
   ]
  },
  {
   "cell_type": "code",
   "execution_count": 27,
   "metadata": {},
   "outputs": [
    {
     "data": {
      "text/html": [
       "<style>#sk-container-id-1 {color: black;background-color: white;}#sk-container-id-1 pre{padding: 0;}#sk-container-id-1 div.sk-toggleable {background-color: white;}#sk-container-id-1 label.sk-toggleable__label {cursor: pointer;display: block;width: 100%;margin-bottom: 0;padding: 0.3em;box-sizing: border-box;text-align: center;}#sk-container-id-1 label.sk-toggleable__label-arrow:before {content: \"▸\";float: left;margin-right: 0.25em;color: #696969;}#sk-container-id-1 label.sk-toggleable__label-arrow:hover:before {color: black;}#sk-container-id-1 div.sk-estimator:hover label.sk-toggleable__label-arrow:before {color: black;}#sk-container-id-1 div.sk-toggleable__content {max-height: 0;max-width: 0;overflow: hidden;text-align: left;background-color: #f0f8ff;}#sk-container-id-1 div.sk-toggleable__content pre {margin: 0.2em;color: black;border-radius: 0.25em;background-color: #f0f8ff;}#sk-container-id-1 input.sk-toggleable__control:checked~div.sk-toggleable__content {max-height: 200px;max-width: 100%;overflow: auto;}#sk-container-id-1 input.sk-toggleable__control:checked~label.sk-toggleable__label-arrow:before {content: \"▾\";}#sk-container-id-1 div.sk-estimator input.sk-toggleable__control:checked~label.sk-toggleable__label {background-color: #d4ebff;}#sk-container-id-1 div.sk-label input.sk-toggleable__control:checked~label.sk-toggleable__label {background-color: #d4ebff;}#sk-container-id-1 input.sk-hidden--visually {border: 0;clip: rect(1px 1px 1px 1px);clip: rect(1px, 1px, 1px, 1px);height: 1px;margin: -1px;overflow: hidden;padding: 0;position: absolute;width: 1px;}#sk-container-id-1 div.sk-estimator {font-family: monospace;background-color: #f0f8ff;border: 1px dotted black;border-radius: 0.25em;box-sizing: border-box;margin-bottom: 0.5em;}#sk-container-id-1 div.sk-estimator:hover {background-color: #d4ebff;}#sk-container-id-1 div.sk-parallel-item::after {content: \"\";width: 100%;border-bottom: 1px solid gray;flex-grow: 1;}#sk-container-id-1 div.sk-label:hover label.sk-toggleable__label {background-color: #d4ebff;}#sk-container-id-1 div.sk-serial::before {content: \"\";position: absolute;border-left: 1px solid gray;box-sizing: border-box;top: 0;bottom: 0;left: 50%;z-index: 0;}#sk-container-id-1 div.sk-serial {display: flex;flex-direction: column;align-items: center;background-color: white;padding-right: 0.2em;padding-left: 0.2em;position: relative;}#sk-container-id-1 div.sk-item {position: relative;z-index: 1;}#sk-container-id-1 div.sk-parallel {display: flex;align-items: stretch;justify-content: center;background-color: white;position: relative;}#sk-container-id-1 div.sk-item::before, #sk-container-id-1 div.sk-parallel-item::before {content: \"\";position: absolute;border-left: 1px solid gray;box-sizing: border-box;top: 0;bottom: 0;left: 50%;z-index: -1;}#sk-container-id-1 div.sk-parallel-item {display: flex;flex-direction: column;z-index: 1;position: relative;background-color: white;}#sk-container-id-1 div.sk-parallel-item:first-child::after {align-self: flex-end;width: 50%;}#sk-container-id-1 div.sk-parallel-item:last-child::after {align-self: flex-start;width: 50%;}#sk-container-id-1 div.sk-parallel-item:only-child::after {width: 0;}#sk-container-id-1 div.sk-dashed-wrapped {border: 1px dashed gray;margin: 0 0.4em 0.5em 0.4em;box-sizing: border-box;padding-bottom: 0.4em;background-color: white;}#sk-container-id-1 div.sk-label label {font-family: monospace;font-weight: bold;display: inline-block;line-height: 1.2em;}#sk-container-id-1 div.sk-label-container {text-align: center;}#sk-container-id-1 div.sk-container {/* jupyter's `normalize.less` sets `[hidden] { display: none; }` but bootstrap.min.css set `[hidden] { display: none !important; }` so we also need the `!important` here to be able to override the default hidden behavior on the sphinx rendered scikit-learn.org. See: https://github.com/scikit-learn/scikit-learn/issues/21755 */display: inline-block !important;position: relative;}#sk-container-id-1 div.sk-text-repr-fallback {display: none;}</style><div id=\"sk-container-id-1\" class=\"sk-top-container\"><div class=\"sk-text-repr-fallback\"><pre>RandomForestRegressor()</pre><b>In a Jupyter environment, please rerun this cell to show the HTML representation or trust the notebook. <br />On GitHub, the HTML representation is unable to render, please try loading this page with nbviewer.org.</b></div><div class=\"sk-container\" hidden><div class=\"sk-item\"><div class=\"sk-estimator sk-toggleable\"><input class=\"sk-toggleable__control sk-hidden--visually\" id=\"sk-estimator-id-1\" type=\"checkbox\" checked><label for=\"sk-estimator-id-1\" class=\"sk-toggleable__label sk-toggleable__label-arrow\">RandomForestRegressor</label><div class=\"sk-toggleable__content\"><pre>RandomForestRegressor()</pre></div></div></div></div></div>"
      ],
      "text/plain": [
       "RandomForestRegressor()"
      ]
     },
     "execution_count": 27,
     "metadata": {},
     "output_type": "execute_result"
    }
   ],
   "source": [
    "model = RandomForestRegressor()\n",
    "model.fit(X_train, y_train)"
   ]
  },
  {
   "cell_type": "code",
   "execution_count": 29,
   "metadata": {},
   "outputs": [],
   "source": [
    "y_test_hat = model.predict(X_test)"
   ]
  },
  {
   "cell_type": "code",
   "execution_count": 30,
   "metadata": {},
   "outputs": [
    {
     "data": {
      "text/plain": [
       "690988191547381.1"
      ]
     },
     "execution_count": 30,
     "metadata": {},
     "output_type": "execute_result"
    }
   ],
   "source": [
    "mean_absolute_percentage_error()"
   ]
  },
  {
   "cell_type": "code",
   "execution_count": 35,
   "metadata": {},
   "outputs": [
    {
     "data": {
      "text/plain": [
       "46.37864553333334"
      ]
     },
     "execution_count": 35,
     "metadata": {},
     "output_type": "execute_result"
    }
   ],
   "source": [
    "np.mean(np.abs(y_test_hat - y_test))"
   ]
  },
  {
   "cell_type": "code",
   "execution_count": 38,
   "metadata": {},
   "outputs": [
    {
     "data": {
      "text/plain": [
       "46.37864553333334"
      ]
     },
     "execution_count": 38,
     "metadata": {},
     "output_type": "execute_result"
    }
   ],
   "source": [
    "mean_absolute_error(y_test, y_test_hat)"
   ]
  },
  {
   "cell_type": "code",
   "execution_count": 42,
   "metadata": {},
   "outputs": [
    {
     "data": {
      "text/plain": [
       "<AxesSubplot: >"
      ]
     },
     "execution_count": 42,
     "metadata": {},
     "output_type": "execute_result"
    },
    {
     "data": {
      "image/png": "[encoded data removed]",
      "text/plain": [
       "<Figure size 640x480 with 1 Axes>"
      ]
     },
     "metadata": {},
     "output_type": "display_data"
    }
   ],
   "source": [
    "final[target_column].hist(bins=100)"
   ]
  },
  {
   "cell_type": "code",
   "execution_count": 44,
   "metadata": {},
   "outputs": [
    {
     "data": {
      "text/plain": [
       "[(3.7872871419107044e-06, 'snow'),\n",
       " (7.781483217195404e-05, 'snowdepth'),\n",
       " (0.00025707175941403404, 'precipprob'),\n",
       " (0.0008200975412767989, 'severerisk'),\n",
       " (0.0010408419418000906, 'precip'),\n",
       " (0.003127198210040734, 'visibility'),\n",
       " (0.003208260616894144, 'time_emb_1'),\n",
       " (0.0053227183283518845, 'time_emb_0'),\n",
       " (0.0066621415692836175, 'windgust'),\n",
       " (0.00679008135734071, 'temp'),\n",
       " (0.007079921364429092, 'dew'),\n",
       " (0.007109356626142913, 'windspeed'),\n",
       " (0.00747576088888974, 'pressure'),\n",
       " (0.008849330349563717, 'feelslike'),\n",
       " (0.011152547096360921, 'PC1'),\n",
       " (0.012713926090573922, 'lon'),\n",
       " (0.016250097363886322, 'PC2'),\n",
       " (0.018964833293655416, 'date_emb_0'),\n",
       " (0.020983388519674545, 'lat'),\n",
       " (0.026974961187406266, 'humidity'),\n",
       " (0.04020478360081207, 'cloud_cover_perc'),\n",
       " (0.07382139119373086, 'date_emb_1'),\n",
       " (0.7211096889811583, 'time_sunset_sunrise')]"
      ]
     },
     "execution_count": 44,
     "metadata": {},
     "output_type": "execute_result"
    }
   ],
   "source": [
    "sorted(list(zip(model.feature_importances_, feature_columns)))"
   ]
  },
  {
   "cell_type": "code",
   "execution_count": null,
   "metadata": {},
   "outputs": [],
   "source": []
  }
 ],
 "metadata": {
  "kernelspec": {
   "display_name": "DistDataSys",
   "language": "python",
   "name": "python3"
  },
  "language_info": {
   "codemirror_mode": {
    "name": "ipython",
    "version": 3
   },
   "file_extension": ".py",
   "mimetype": "text/x-python",
   "name": "python",
   "nbconvert_exporter": "python",
   "pygments_lexer": "ipython3",
   "version": "3.10.0"
  },
  "orig_nbformat": 4,
  "vscode": {
   "interpreter": {
    "hash": "9738d544e3bca1bb8999731356cf7472fd76247a39eae401bed6af6e817fdd12"
   }
  }
 },
 "nbformat": 4,
 "nbformat_minor": 2
}
