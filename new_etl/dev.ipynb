{
 "cells": [
  {
   "cell_type": "code",
   "execution_count": 1,
   "metadata": {},
   "outputs": [
    {
     "ename": "ModuleNotFoundError",
     "evalue": "No module named 'etl'",
     "output_type": "error",
     "traceback": [
      "\u001b[0;31m---------------------------------------------------------------------------\u001b[0m",
      "\u001b[0;31mModuleNotFoundError\u001b[0m                       Traceback (most recent call last)",
      "Cell \u001b[0;32mIn[1], line 1\u001b[0m\n\u001b[0;32m----> 1\u001b[0m \u001b[39mfrom\u001b[39;00m \u001b[39metl\u001b[39;00m\u001b[39m.\u001b[39;00m\u001b[39mmongodb\u001b[39;00m \u001b[39mimport\u001b[39;00m MongoDBCollection\n\u001b[1;32m      2\u001b[0m \u001b[39mimport\u001b[39;00m \u001b[39mpandas\u001b[39;00m \u001b[39mas\u001b[39;00m \u001b[39mpd\u001b[39;00m\n\u001b[1;32m      3\u001b[0m \u001b[39mimport\u001b[39;00m \u001b[39mnumpy\u001b[39;00m \u001b[39mas\u001b[39;00m \u001b[39mnp\u001b[39;00m\n",
      "\u001b[0;31mModuleNotFoundError\u001b[0m: No module named 'etl'"
     ]
    }
   ],
   "source": [
    "from etl.mongodb import MongoDBCollection\n",
    "import pandas as pd\n",
    "import numpy as np"
   ]
  },
  {
   "cell_type": "code",
   "execution_count": 1,
   "metadata": {},
   "outputs": [],
   "source": [
    "MONGO_IP=\"cluster0.4f8sfnc.mongodb.net/?retryWrites=true&w=majority\"\n",
    "MONGO_DB_NAME=\"solar\"\n",
    "MONGO_COLLECTION_NAME=\"openweather_history\"\n",
    "MONGO_USERNAME=\"kchau7\"\n",
    "MONGO_PASSWORD=\"YgtfG3HC3rsH3APP\""
   ]
  },
  {
   "cell_type": "code",
   "execution_count": 3,
   "metadata": {},
   "outputs": [],
   "source": [
    "connection = MongoDBCollection(\n",
    "    MONGO_USERNAME, \n",
    "    MONGO_PASSWORD, \n",
    "    MONGO_IP, \n",
    "    MONGO_DB_NAME, \n",
    "    MONGO_COLLECTION_NAME\n",
    ")"
   ]
  },
  {
   "cell_type": "code",
   "execution_count": 7,
   "metadata": {},
   "outputs": [
    {
     "data": {
      "text/plain": [
       "{'_id': ObjectId('63f3316237ec5f26a241e212'),\n",
       " 'dt': 1676768400,\n",
       " 'lat': 41.85,\n",
       " 'lon': -87.65,\n",
       " 'temp': 278.52,\n",
       " 'feels_like': 274.45,\n",
       " 'pressure': 1020,\n",
       " 'humidity': 65,\n",
       " 'temp_min': 276.85,\n",
       " 'temp_max': 279.57,\n",
       " 'wind_speed': 6.17,\n",
       " 'wind_deg': 200,\n",
       " 'weather_main': 'Clouds',\n",
       " 'weather_description': 'overcast clouds'}"
      ]
     },
     "execution_count": 7,
     "metadata": {},
     "output_type": "execute_result"
    }
   ],
   "source": [
    "list(connection.find({},{}))[0]"
   ]
  },
  {
   "cell_type": "code",
   "execution_count": 8,
   "metadata": {},
   "outputs": [],
   "source": [
    "api = f\"https://weather.visualcrossing.com/VisualCrossingWebServices/rest/services/timeline/{lat}%2C%20{lon}/{start}/{end}?unitGroup=metric&key={api_key}&contentType=json\""
   ]
  },
  {
   "cell_type": "code",
   "execution_count": 3,
   "metadata": {},
   "outputs": [
    {
     "data": {
      "text/plain": [
       "datetime.datetime(2023, 2, 3, 0, 0)"
      ]
     },
     "execution_count": 3,
     "metadata": {},
     "output_type": "execute_result"
    }
   ],
   "source": [
    "from datetime import datetime, timedelta\n",
    "\n",
    "date = datetime(2023, 2, 2)\n",
    "\n",
    "date + timedelta(days=1)"
   ]
  },
  {
   "cell_type": "code",
   "execution_count": 9,
   "metadata": {},
   "outputs": [],
   "source": [
    "import requests\n",
    "\n",
    "import calendar\n",
    "\n",
    "response = requests.get(api)"
   ]
  },
  {
   "cell_type": "code",
   "execution_count": 12,
   "metadata": {},
   "outputs": [],
   "source": [
    "data = response.json()"
   ]
  },
  {
   "cell_type": "code",
   "execution_count": 12,
   "metadata": {},
   "outputs": [],
   "source": [
    "DATE_FORMAT = \"%Y-%m-%d\"\n",
    "\n",
    "def increment_date(date, num_days):\n",
    "    \"\"\" \"\"\"\n",
    "    date = datetime.strptime(date, DATE_FORMAT)\n",
    "    incremented_date = date + timedelta(days=num_days)\n",
    "    return incremented_date.strftime(DATE_FORMAT)\n",
    "\n",
    "def month_end_date(date):\n",
    "    \"\"\" \"\"\"\n",
    "    date = datetime.strptime(date, DATE_FORMAT)\n",
    "    # Define year / month / day for month end \n",
    "    year = date.year\n",
    "    month = date.month\n",
    "    day = calendar.monthrange(year, month)[1]\n",
    "    # Return month end date in str format\n",
    "    return datetime(year, month, day).strftime(DATE_FORMAT)\n"
   ]
  },
  {
   "cell_type": "code",
   "execution_count": 4,
   "metadata": {},
   "outputs": [
    {
     "data": {
      "text/plain": [
       "environ{'MANPATH': '/opt/homebrew/share/man::',\n",
       "        'VSCODE_CLI': '1',\n",
       "        'JAVA_LD_LIBRARY_PATH': '/opt/anaconda3/envs/DistDataSys/lib/server',\n",
       "        'TERM_PROGRAM': 'iTerm.app',\n",
       "        'OPEN_WEATHER_API': '76ca0b5cd69e1331d638516fd5194fe3',\n",
       "        'SHELL': '/bin/zsh',\n",
       "        'TERM': 'xterm-color',\n",
       "        'HOMEBREW_REPOSITORY': '/opt/homebrew',\n",
       "        'TMPDIR': '/var/folders/4p/647j9vhx2js0krnv5kzs32j80000gn/T/',\n",
       "        'CONDA_SHLVL': '5',\n",
       "        'CONDA_PROMPT_MODIFIER': '(DistDataSys) ',\n",
       "        'TERM_PROGRAM_VERSION': '3.4.19',\n",
       "        'PYTHONUNBUFFERED': '1',\n",
       "        'MallocNanoZone': '0',\n",
       "        'ORIGINAL_XDG_CURRENT_DESKTOP': 'undefined',\n",
       "        'TERM_SESSION_ID': 'w0t0p0:8FC47444-4FB9-47EB-8D10-86C84E3C9B62',\n",
       "        'ZSH': '/Users/mtwheeler/.oh-my-zsh',\n",
       "        'USER': 'mtwheeler',\n",
       "        'PYTHONIOENCODING': 'utf-8',\n",
       "        'COMMAND_MODE': 'unix2003',\n",
       "        'CONDA_EXE': '/opt/anaconda3/bin/conda',\n",
       "        'SSH_AUTH_SOCK': '/private/tmp/com.apple.launchd.LlqPMgXaJw/Listeners',\n",
       "        '__CF_USER_TEXT_ENCODING': '0x1F5:0:2',\n",
       "        'PAGER': 'cat',\n",
       "        'VSCODE_AMD_ENTRYPOINT': 'vs/workbench/api/node/extensionHostProcess',\n",
       "        'ELECTRON_RUN_AS_NODE': '1',\n",
       "        '_CE_CONDA': '',\n",
       "        'LSCOLORS': 'Gxfxcxdxbxegedabagacad',\n",
       "        'CONDA_ROOT': '/opt/anaconda3',\n",
       "        'CONDA_PREFIX_1': '/opt/anaconda3',\n",
       "        'PATH': '/opt/anaconda3/envs/DistDataSys/bin:/usr/local/texlive/2022/bin/universal-darwin:/opt/anaconda3/envs/DistDataSys/bin:/opt/anaconda3/condabin:/opt/homebrew/bin:/opt/homebrew/sbin:/usr/local/bin:/System/Cryptexes/App/usr/bin:/usr/bin:/bin:/usr/sbin:/sbin:/Library/TeX/texbin',\n",
       "        'CONDA_PREFIX_3': '/opt/anaconda3/envs/DistDataSys',\n",
       "        'CONDA_PREFIX_2': '/opt/anaconda3/envs/advML',\n",
       "        'LaunchInstanceID': 'CB90F542-B3F3-41A7-8C51-52515FE96A16',\n",
       "        'CONDA_PREFIX': '/opt/anaconda3/envs/DistDataSys',\n",
       "        '__CFBundleIdentifier': 'com.microsoft.VSCode',\n",
       "        'PWD': '/',\n",
       "        'ELECTRON_NO_ATTACH_CONSOLE': '1',\n",
       "        'JAVA_HOME': '/opt/anaconda3/envs/DistDataSys',\n",
       "        'VSCODE_HANDLES_UNCAUGHT_ERRORS': 'true',\n",
       "        'EDITOR': 'code -w',\n",
       "        'LANG': 'en_GB.UTF-8',\n",
       "        'ITERM_PROFILE': 'Default',\n",
       "        'XPC_FLAGS': '0x0',\n",
       "        '_CE_M': '',\n",
       "        'XPC_SERVICE_NAME': '0',\n",
       "        'COLORFGBG': '7;0',\n",
       "        'HOME': '/Users/mtwheeler',\n",
       "        'SHLVL': '4',\n",
       "        'SPARK_LOCAL_IP': '127.0.0.1',\n",
       "        'APPLICATION_INSIGHTS_NO_DIAGNOSTIC_CHANNEL': 'true',\n",
       "        'LC_TERMINAL_VERSION': '3.4.19',\n",
       "        'VSCODE_NLS_CONFIG': '{\"locale\":\"en-gb\",\"availableLanguages\":{},\"_languagePackSupport\":true}',\n",
       "        'HOMEBREW_PREFIX': '/opt/homebrew',\n",
       "        'ITERM_SESSION_ID': 'w0t0p0:8FC47444-4FB9-47EB-8D10-86C84E3C9B62',\n",
       "        'CONDA_PYTHON_EXE': '/opt/anaconda3/bin/python',\n",
       "        'LESS': '-R',\n",
       "        'LOGNAME': 'mtwheeler',\n",
       "        'VSCODE_CODE_CACHE_PATH': '/Users/mtwheeler/Library/Application Support/Code/CachedData/441438abd1ac652551dbe4d408dfcec8a499b8bf',\n",
       "        'VSCODE_IPC_HOOK': '/Users/mtwheeler/Library/Application Support/Code/1.75.1-main.sock',\n",
       "        'CONDA_DEFAULT_ENV': 'DistDataSys',\n",
       "        'VSCODE_PID': '570',\n",
       "        'HOMEBREW_CELLAR': '/opt/homebrew/Cellar',\n",
       "        'INFOPATH': '/opt/homebrew/share/info:',\n",
       "        'LC_TERMINAL': 'iTerm2',\n",
       "        'SECURITYSESSIONID': '186b4',\n",
       "        'VSCODE_CWD': '/Users/mtwheeler/USF/spring_1/data_systems/final_project/repo',\n",
       "        'COLORTERM': 'truecolor',\n",
       "        '_': '/opt/anaconda3/envs/DistDataSys/bin/python',\n",
       "        'JUPYTER_PATH': '/Users/mtwheeler/.vscode/extensions/ms-toolsai.jupyter-2023.1.2010391206/temp/jupyter',\n",
       "        'PYDEVD_USE_FRAME_EVAL': 'NO',\n",
       "        'CONDA_BACKUP_JAVA_HOME': '/Library/Java/JavaVirtualMachines/adoptopenjdk-8.jdk/Contents/Home:-:-',\n",
       "        'CONDA_BACKUP_JAVA_LD_LIBRARY_PATH': ':-:-',\n",
       "        'VSCODE_L10N_BUNDLE_LOCATION': '',\n",
       "        'CONDA_PREFIX_4': '/opt/anaconda3',\n",
       "        'PYDEVD_IPYTHON_COMPATIBLE_DEBUGGING': '1',\n",
       "        'JPY_PARENT_PID': '40900',\n",
       "        'CLICOLOR': '1',\n",
       "        'FORCE_COLOR': '1',\n",
       "        'CLICOLOR_FORCE': '1',\n",
       "        'GIT_PAGER': 'cat',\n",
       "        'MPLBACKEND': 'module://matplotlib_inline.backend_inline'}"
      ]
     },
     "execution_count": 4,
     "metadata": {},
     "output_type": "execute_result"
    }
   ],
   "source": [
    "os.environ"
   ]
  },
  {
   "cell_type": "code",
   "execution_count": 3,
   "metadata": {},
   "outputs": [
    {
     "ename": "KeyError",
     "evalue": "'GS_BUCKET'",
     "output_type": "error",
     "traceback": [
      "\u001b[0;31m---------------------------------------------------------------------------\u001b[0m",
      "\u001b[0;31mKeyError\u001b[0m                                  Traceback (most recent call last)",
      "Cell \u001b[0;32mIn[3], line 4\u001b[0m\n\u001b[1;32m      1\u001b[0m \u001b[39mimport\u001b[39;00m \u001b[39mos\u001b[39;00m\n\u001b[1;32m      3\u001b[0m \u001b[39m# Load GCP bucket name and service key\u001b[39;00m\n\u001b[0;32m----> 4\u001b[0m GS_BUCKET \u001b[39m=\u001b[39m os\u001b[39m.\u001b[39;49menviron[\u001b[39m\"\u001b[39;49m\u001b[39mGS_BUCKET\u001b[39;49m\u001b[39m\"\u001b[39;49m]\n\u001b[1;32m      5\u001b[0m GS_SERVICE_KEY \u001b[39m=\u001b[39m os\u001b[39m.\u001b[39menviron[\u001b[39m\"\u001b[39m\u001b[39mGS_SERVICE_KEY\u001b[39m\u001b[39m\"\u001b[39m]\n",
      "File \u001b[0;32m/opt/anaconda3/envs/DistDataSys/lib/python3.10/os.py:679\u001b[0m, in \u001b[0;36m_Environ.__getitem__\u001b[0;34m(self, key)\u001b[0m\n\u001b[1;32m    676\u001b[0m     value \u001b[39m=\u001b[39m \u001b[39mself\u001b[39m\u001b[39m.\u001b[39m_data[\u001b[39mself\u001b[39m\u001b[39m.\u001b[39mencodekey(key)]\n\u001b[1;32m    677\u001b[0m \u001b[39mexcept\u001b[39;00m \u001b[39mKeyError\u001b[39;00m:\n\u001b[1;32m    678\u001b[0m     \u001b[39m# raise KeyError with the original key value\u001b[39;00m\n\u001b[0;32m--> 679\u001b[0m     \u001b[39mraise\u001b[39;00m \u001b[39mKeyError\u001b[39;00m(key) \u001b[39mfrom\u001b[39;00m \u001b[39mNone\u001b[39m\n\u001b[1;32m    680\u001b[0m \u001b[39mreturn\u001b[39;00m \u001b[39mself\u001b[39m\u001b[39m.\u001b[39mdecodevalue(value)\n",
      "\u001b[0;31mKeyError\u001b[0m: 'GS_BUCKET'"
     ]
    }
   ],
   "source": [
    "import os\n",
    "\n",
    "# Load GCP bucket name and service key\n",
    "GS_BUCKET = os.environ[\"GS_BUCKET\"]\n",
    "GS_SERVICE_KEY = os.environ[\"GS_SERVICE_KEY\"]"
   ]
  },
  {
   "cell_type": "code",
   "execution_count": 2,
   "metadata": {},
   "outputs": [
    {
     "ename": "KeyError",
     "evalue": "'GS_BUCKET'",
     "output_type": "error",
     "traceback": [
      "\u001b[0;31m---------------------------------------------------------------------------\u001b[0m",
      "\u001b[0;31mKeyError\u001b[0m                                  Traceback (most recent call last)",
      "Cell \u001b[0;32mIn[2], line 1\u001b[0m\n\u001b[0;32m----> 1\u001b[0m \u001b[39mfrom\u001b[39;00m \u001b[39mutils\u001b[39;00m \u001b[39mimport\u001b[39;00m generate_api_query\n",
      "File \u001b[0;32m~/USF/spring_1/data_systems/final_project/repo/new_etl/utils.py:4\u001b[0m\n\u001b[1;32m      1\u001b[0m \u001b[39mimport\u001b[39;00m \u001b[39mcalendar\u001b[39;00m\n\u001b[1;32m      3\u001b[0m \u001b[39mfrom\u001b[39;00m \u001b[39mdatetime\u001b[39;00m \u001b[39mimport\u001b[39;00m datetime, timedelta\n\u001b[0;32m----> 4\u001b[0m \u001b[39mfrom\u001b[39;00m \u001b[39muser_definision\u001b[39;00m \u001b[39mimport\u001b[39;00m DATE_FORMAT, WEATHER_API_KEY\n\u001b[1;32m      7\u001b[0m \u001b[39mdef\u001b[39;00m \u001b[39mincrement_date\u001b[39m(date, num_days):\n\u001b[1;32m      8\u001b[0m \u001b[39m    \u001b[39m\u001b[39m\"\"\" Function to increase \"\"\"\u001b[39;00m\n",
      "File \u001b[0;32m~/USF/spring_1/data_systems/final_project/repo/new_etl/user_definision.py:4\u001b[0m\n\u001b[1;32m      1\u001b[0m \u001b[39mimport\u001b[39;00m \u001b[39mos\u001b[39;00m\n\u001b[1;32m      3\u001b[0m \u001b[39m# Load GCP bucket name and service key\u001b[39;00m\n\u001b[0;32m----> 4\u001b[0m GS_BUCKET \u001b[39m=\u001b[39m os\u001b[39m.\u001b[39;49menviron[\u001b[39m\"\u001b[39;49m\u001b[39mGS_BUCKET\u001b[39;49m\u001b[39m\"\u001b[39;49m]\n\u001b[1;32m      5\u001b[0m GS_SERVICE_KEY \u001b[39m=\u001b[39m os\u001b[39m.\u001b[39menviron[\u001b[39m\"\u001b[39m\u001b[39mGS_SERVICE_KEY\u001b[39m\u001b[39m\"\u001b[39m]\n\u001b[1;32m      7\u001b[0m \u001b[39m# Load MongoDB username and password\u001b[39;00m\n",
      "File \u001b[0;32m/opt/anaconda3/envs/DistDataSys/lib/python3.10/os.py:679\u001b[0m, in \u001b[0;36m_Environ.__getitem__\u001b[0;34m(self, key)\u001b[0m\n\u001b[1;32m    676\u001b[0m     value \u001b[39m=\u001b[39m \u001b[39mself\u001b[39m\u001b[39m.\u001b[39m_data[\u001b[39mself\u001b[39m\u001b[39m.\u001b[39mencodekey(key)]\n\u001b[1;32m    677\u001b[0m \u001b[39mexcept\u001b[39;00m \u001b[39mKeyError\u001b[39;00m:\n\u001b[1;32m    678\u001b[0m     \u001b[39m# raise KeyError with the original key value\u001b[39;00m\n\u001b[0;32m--> 679\u001b[0m     \u001b[39mraise\u001b[39;00m \u001b[39mKeyError\u001b[39;00m(key) \u001b[39mfrom\u001b[39;00m \u001b[39mNone\u001b[39m\n\u001b[1;32m    680\u001b[0m \u001b[39mreturn\u001b[39;00m \u001b[39mself\u001b[39m\u001b[39m.\u001b[39mdecodevalue(value)\n",
      "\u001b[0;31mKeyError\u001b[0m: 'GS_BUCKET'"
     ]
    }
   ],
   "source": [
    "from utils import generate_api_query\n"
   ]
  },
  {
   "cell_type": "code",
   "execution_count": 13,
   "metadata": {},
   "outputs": [
    {
     "data": {
      "text/plain": [
       "2"
      ]
     },
     "execution_count": 13,
     "metadata": {},
     "output_type": "execute_result"
    }
   ],
   "source": [
    "len(data['days'])"
   ]
  },
  {
   "cell_type": "code",
   "execution_count": 19,
   "metadata": {},
   "outputs": [
    {
     "data": {
      "text/plain": [
       "{'datetime': '00:00:00',\n",
       " 'datetimeEpoch': 1676534400,\n",
       " 'temp': 12.6,\n",
       " 'feelslike': 12.6,\n",
       " 'humidity': 32.51,\n",
       " 'dew': -15.0,\n",
       " 'precip': 0.0,\n",
       " 'precipprob': 0.0,\n",
       " 'snow': 0.0,\n",
       " 'snowdepth': 0.0,\n",
       " 'preciptype': None,\n",
       " 'windgust': 24.1,\n",
       " 'windspeed': 6.1,\n",
       " 'winddir': 350.0,\n",
       " 'pressure': 1028.0,\n",
       " 'visibility': 16.3,\n",
       " 'cloudcover': 5.0,\n",
       " 'solarradiation': 0.0,\n",
       " 'solarenergy': None,\n",
       " 'uvindex': 0.0,\n",
       " 'severerisk': 10.0,\n",
       " 'conditions': 'Clear',\n",
       " 'icon': 'clear-night',\n",
       " 'stations': ['99999953139'],\n",
       " 'source': 'obs'}"
      ]
     },
     "execution_count": 19,
     "metadata": {},
     "output_type": "execute_result"
    }
   ],
   "source": [
    "data['days'][0]['hours'][0]"
   ]
  },
  {
   "cell_type": "code",
   "execution_count": 20,
   "metadata": {},
   "outputs": [],
   "source": [
    "api2 = \"https://weather.visualcrossing.com/VisualCrossingWebServices/rest/services/timeline/41.85%2C%20-87.65/2023-02-16/2023-02-16?unitGroup=metric&key=UXXJUB86KCZVKW6MP5K73VRMU&contentType=json\""
   ]
  },
  {
   "cell_type": "code",
   "execution_count": 48,
   "metadata": {},
   "outputs": [
    {
     "data": {
      "text/plain": [
       "{'lat': 41.85, 'lon': -87.65, 'timezone': 'America/Chicago', 'tzoffset': -6.0}"
      ]
     },
     "execution_count": 48,
     "metadata": {},
     "output_type": "execute_result"
    }
   ],
   "source": []
  },
  {
   "cell_type": "code",
   "execution_count": 21,
   "metadata": {},
   "outputs": [],
   "source": [
    "response2 = requests.get(api2)\n",
    "data2 = response2.json()"
   ]
  },
  {
   "cell_type": "code",
   "execution_count": 23,
   "metadata": {},
   "outputs": [
    {
     "data": {
      "text/plain": [
       "{'datetime': '00:00:00',\n",
       " 'datetimeEpoch': 1676527200,\n",
       " 'temp': 2.1,\n",
       " 'feelslike': -2.0,\n",
       " 'humidity': 73.37,\n",
       " 'dew': -2.2,\n",
       " 'precip': 0.0,\n",
       " 'precipprob': 0.0,\n",
       " 'snow': 0.0,\n",
       " 'snowdepth': 0.0,\n",
       " 'preciptype': None,\n",
       " 'windgust': 20.5,\n",
       " 'windspeed': 16.3,\n",
       " 'winddir': 355.0,\n",
       " 'pressure': 1017.7,\n",
       " 'visibility': 16.0,\n",
       " 'cloudcover': 100.0,\n",
       " 'solarradiation': 0.0,\n",
       " 'solarenergy': None,\n",
       " 'uvindex': 0.0,\n",
       " 'severerisk': 10.0,\n",
       " 'conditions': 'Overcast',\n",
       " 'icon': 'cloudy',\n",
       " 'stations': ['72534014819',\n",
       "  '72212604879',\n",
       "  'KORD',\n",
       "  'KMDW',\n",
       "  '72530094846',\n",
       "  'KIGQ'],\n",
       " 'source': 'obs'}"
      ]
     },
     "execution_count": 23,
     "metadata": {},
     "output_type": "execute_result"
    }
   ],
   "source": [
    "data2['days'][0]['hours'][0]"
   ]
  },
  {
   "cell_type": "code",
   "execution_count": 73,
   "metadata": {},
   "outputs": [],
   "source": [
    "def flatten_json(data):\n",
    "    \"\"\" Function to combine any list fields \n",
    "        into a concat str\"\"\"\n",
    "    for key, value in data.items():\n",
    "        if isinstance(value, list):\n",
    "            data[key] = ','.join([str(v) for v in value])\n",
    "    return data\n",
    "\n",
    "def extract_location_stats(data):\n",
    "    \"\"\" Function to extract location level \n",
    "        fields from API response \"\"\"\n",
    "    return flatten_json({\n",
    "        'lat': data['latitude'], \n",
    "        'lon': data['longitude'],\n",
    "        'timezone': data['timezone'],\n",
    "        'tzoffset': data['tzoffset']\n",
    "    })\n",
    "\n",
    "def extract_day_stats(data):\n",
    "    \"\"\" Function to pull relevant day level \n",
    "        fields from data \"\"\"\n",
    "    # Remove unwanted fields\n",
    "    day = data.copy()\n",
    "    del day['sunriseEpoch']\n",
    "    del day['sunsetEpoch']\n",
    "    del day['icon']\n",
    "    del day['solarradiation']\n",
    "    del day['solarenergy']\n",
    "    del day['hours']\n",
    "    del day['stations']\n",
    "    del day['datetimeEpoch']\n",
    "    # Loop through remaining day fields\n",
    "    for key in list(day.keys()):\n",
    "        # Set None precipitation type to mean no rain\n",
    "        if \"preciptype\" in key and day[key] is None:\n",
    "            day[key] = 'No rain'\n",
    "        # Rename datetime field to date\n",
    "        if key == \"datetime\":\n",
    "            day['date'] = day.pop(key) \n",
    "        # Add 'day_agg_' prefix to all otherkey names\n",
    "        else:\n",
    "            day[f'day_agg_{key}'] = day.pop(key)\n",
    "    return flatten_json(day)\n",
    "\n",
    "def extract_hour_stats(data):\n",
    "    \"\"\" Function to pull relevant hour level \n",
    "        fields from data\"\"\"\n",
    "    # Loop through remaining day fields\n",
    "    for key in list(data.keys()):\n",
    "        # Set None precipitation type to mean no rain\n",
    "        if \"preciptype\" in key and data[key] is None:\n",
    "            data[key] = 'No rain'\n",
    "        # Rename datetime field to date\n",
    "        elif key == \"datetime\":\n",
    "            data['time'] = data.pop(key) \n",
    "    return flatten_json(data)\n",
    "\n",
    "def json_to_df(json):\n",
    "    \"\"\"Convert JSON API response of a location to a dataframe.\"\"\"\n",
    "    result = []\n",
    "    # Extract high level location stats\n",
    "    location_stats = extract_location_stats(json)\n",
    "    # Loop through each day and extract day stats\n",
    "    for day_json in json[\"days\"]:\n",
    "        day_stats = extract_day_stats(day_json)\n",
    "        # Loop through each day and extract day stats\n",
    "        for hour_json in day_json[\"hours\"]:\n",
    "            hour_json = extract_hour_stats(hour_json)\n",
    "            # Combine day and location stats and append result\n",
    "            hour_json.update(location_stats)\n",
    "            hour_json.update(day_stats)\n",
    "            result.append(hour_json)\n",
    "    # Return formatted \n",
    "    return pd.DataFrame(result)"
   ]
  },
  {
   "cell_type": "code",
   "execution_count": 78,
   "metadata": {},
   "outputs": [
    {
     "data": {
      "text/plain": [
       "Index(['datetimeEpoch', 'temp', 'feelslike', 'humidity', 'dew', 'precip',\n",
       "       'precipprob', 'snow', 'snowdepth', 'preciptype', 'windgust',\n",
       "       'windspeed', 'winddir', 'pressure', 'visibility', 'cloudcover',\n",
       "       'solarradiation', 'solarenergy', 'uvindex', 'severerisk', 'conditions',\n",
       "       'icon', 'stations', 'source', 'lat', 'lon', 'timezone', 'tzoffset',\n",
       "       'day_agg_tempmax', 'day_agg_tempmin', 'day_agg_temp',\n",
       "       'day_agg_feelslikemax', 'day_agg_feelslikemin', 'day_agg_feelslike',\n",
       "       'day_agg_dew', 'day_agg_humidity', 'day_agg_precip',\n",
       "       'day_agg_precipprob', 'day_agg_precipcover', 'day_agg_preciptype',\n",
       "       'day_agg_snow', 'day_agg_snowdepth', 'day_agg_windgust',\n",
       "       'day_agg_windspeed', 'day_agg_winddir', 'day_agg_pressure',\n",
       "       'day_agg_cloudcover', 'day_agg_visibility', 'day_agg_uvindex',\n",
       "       'day_agg_severerisk', 'day_agg_sunrise', 'day_agg_sunset',\n",
       "       'day_agg_moonphase', 'day_agg_conditions', 'day_agg_description',\n",
       "       'day_agg_source', 'time', 'date'],\n",
       "      dtype='object')"
      ]
     },
     "execution_count": 78,
     "metadata": {},
     "output_type": "execute_result"
    }
   ],
   "source": [
    "json_to_df(data).columns"
   ]
  },
  {
   "cell_type": "code",
   "execution_count": 71,
   "metadata": {},
   "outputs": [
    {
     "data": {
      "text/plain": [
       "['datetimeEpoch',\n",
       " 'temp',\n",
       " 'feelslike',\n",
       " 'humidity',\n",
       " 'dew',\n",
       " 'precip',\n",
       " 'precipprob',\n",
       " 'snow',\n",
       " 'snowdepth',\n",
       " 'preciptype',\n",
       " 'windgust',\n",
       " 'windspeed',\n",
       " 'winddir',\n",
       " 'pressure',\n",
       " 'visibility',\n",
       " 'cloudcover',\n",
       " 'solarradiation',\n",
       " 'solarenergy',\n",
       " 'uvindex',\n",
       " 'severerisk',\n",
       " 'conditions',\n",
       " 'icon',\n",
       " 'stations',\n",
       " 'source',\n",
       " 'lat',\n",
       " 'lon',\n",
       " 'timezone',\n",
       " 'tzoffset',\n",
       " 'day_agg_tempmax',\n",
       " 'day_agg_tempmin',\n",
       " 'day_agg_temp',\n",
       " 'day_agg_feelslikemax',\n",
       " 'day_agg_feelslikemin',\n",
       " 'day_agg_feelslike',\n",
       " 'day_agg_dew',\n",
       " 'day_agg_humidity',\n",
       " 'day_agg_precip',\n",
       " 'day_agg_precipprob',\n",
       " 'day_agg_precipcover',\n",
       " 'day_agg_preciptype',\n",
       " 'day_agg_snow',\n",
       " 'day_agg_snowdepth',\n",
       " 'day_agg_windgust',\n",
       " 'day_agg_windspeed',\n",
       " 'day_agg_winddir',\n",
       " 'day_agg_pressure',\n",
       " 'day_agg_cloudcover',\n",
       " 'day_agg_visibility',\n",
       " 'day_agg_uvindex',\n",
       " 'day_agg_severerisk',\n",
       " 'day_agg_sunrise',\n",
       " 'day_agg_sunset',\n",
       " 'day_agg_moonphase',\n",
       " 'day_agg_conditions',\n",
       " 'day_agg_description',\n",
       " 'day_agg_source',\n",
       " 'time',\n",
       " 'date']"
      ]
     },
     "execution_count": 71,
     "metadata": {},
     "output_type": "execute_result"
    }
   ],
   "source": [
    "list(json_to_df(data2).columns)"
   ]
  },
  {
   "cell_type": "code",
   "execution_count": 51,
   "metadata": {},
   "outputs": [
    {
     "data": {
      "text/plain": [
       "{'datetime': '00:00:00',\n",
       " 'datetimeEpoch': 1676527200,\n",
       " 'temp': 2.1,\n",
       " 'feelslike': -2.0,\n",
       " 'humidity': 73.37,\n",
       " 'dew': -2.2,\n",
       " 'precip': 0.0,\n",
       " 'precipprob': 0.0,\n",
       " 'snow': 0.0,\n",
       " 'snowdepth': 0.0,\n",
       " 'preciptype': None,\n",
       " 'windgust': 20.5,\n",
       " 'windspeed': 16.3,\n",
       " 'winddir': 355.0,\n",
       " 'pressure': 1017.7,\n",
       " 'visibility': 16.0,\n",
       " 'cloudcover': 100.0,\n",
       " 'solarradiation': 0.0,\n",
       " 'solarenergy': None,\n",
       " 'uvindex': 0.0,\n",
       " 'severerisk': 10.0,\n",
       " 'conditions': 'Overcast',\n",
       " 'icon': 'cloudy',\n",
       " 'stations': ['72534014819',\n",
       "  '72212604879',\n",
       "  'KORD',\n",
       "  'KMDW',\n",
       "  '72530094846',\n",
       "  'KIGQ'],\n",
       " 'source': 'obs'}"
      ]
     },
     "execution_count": 51,
     "metadata": {},
     "output_type": "execute_result"
    }
   ],
   "source": [
    "data2['days'][0]['hours'][0]"
   ]
  },
  {
   "cell_type": "code",
   "execution_count": 1,
   "metadata": {},
   "outputs": [],
   "source": [
    "def gen():\n",
    "    for i in range(10):\n",
    "        yield i\n",
    "        print(i, i**2)"
   ]
  },
  {
   "cell_type": "code",
   "execution_count": 2,
   "metadata": {},
   "outputs": [
    {
     "name": "stdout",
     "output_type": "stream",
     "text": [
      "0 0\n",
      "1 1\n",
      "2 4\n",
      "3 9\n",
      "4 16\n",
      "5 25\n",
      "6 36\n",
      "7 49\n",
      "8 64\n",
      "9 81\n"
     ]
    }
   ],
   "source": [
    "for i in gen():\n",
    "    x = 5"
   ]
  },
  {
   "cell_type": "code",
   "execution_count": null,
   "metadata": {},
   "outputs": [],
   "source": []
  }
 ],
 "metadata": {
  "kernelspec": {
   "display_name": "DistDataSys",
   "language": "python",
   "name": "python3"
  },
  "language_info": {
   "codemirror_mode": {
    "name": "ipython",
    "version": 3
   },
   "file_extension": ".py",
   "mimetype": "text/x-python",
   "name": "python",
   "nbconvert_exporter": "python",
   "pygments_lexer": "ipython3",
   "version": "3.10.0"
  },
  "orig_nbformat": 4,
  "vscode": {
   "interpreter": {
    "hash": "9738d544e3bca1bb8999731356cf7472fd76247a39eae401bed6af6e817fdd12"
   }
  }
 },
 "nbformat": 4,
 "nbformat_minor": 2
}
